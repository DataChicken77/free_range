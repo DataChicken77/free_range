{
 "cells": [
  {
   "cell_type": "markdown",
   "metadata": {},
   "source": [
    "# Python: peeking under the hood"
   ]
  },
  {
   "cell_type": "markdown",
   "metadata": {},
   "source": [
    "First let's try to delve in to some behavior that has demonstrated but not yet been explained in depth. We want to try and understand the difference between \n",
    "\n",
    "a) the observed output of a statement when a python expression is not assigned to a given variable\n",
    "b) the observed output of using the print function on a given variable\n",
    "\n",
    "By way of example:"
   ]
  },
  {
   "cell_type": "markdown",
   "metadata": {},
   "source": [
    "#### a)"
   ]
  },
  {
   "cell_type": "code",
   "execution_count": 1,
   "metadata": {},
   "outputs": [
    {
     "data": {
      "text/plain": [
       "4"
      ]
     },
     "execution_count": 1,
     "metadata": {},
     "output_type": "execute_result"
    }
   ],
   "source": [
    "2 + 2"
   ]
  },
  {
   "cell_type": "markdown",
   "metadata": {},
   "source": [
    "#### b)"
   ]
  },
  {
   "cell_type": "code",
   "execution_count": 2,
   "metadata": {},
   "outputs": [
    {
     "name": "stdout",
     "output_type": "stream",
     "text": [
      "4\n"
     ]
    }
   ],
   "source": [
    "print(2 + 2)"
   ]
  },
  {
   "cell_type": "markdown",
   "metadata": {},
   "source": [
    "### Are they different?"
   ]
  },
  {
   "cell_type": "markdown",
   "metadata": {},
   "source": [
    "The two examples above have completely different outcomes although they look the same superficially. This become clearer if we assign each expression to a variable"
   ]
  },
  {
   "cell_type": "markdown",
   "metadata": {},
   "source": [
    "#### a)"
   ]
  },
  {
   "cell_type": "code",
   "execution_count": 3,
   "metadata": {},
   "outputs": [],
   "source": [
    "a = 2 + 2"
   ]
  },
  {
   "cell_type": "code",
   "execution_count": 4,
   "metadata": {},
   "outputs": [
    {
     "data": {
      "text/plain": [
       "4"
      ]
     },
     "execution_count": 4,
     "metadata": {},
     "output_type": "execute_result"
    }
   ],
   "source": [
    "a"
   ]
  },
  {
   "cell_type": "markdown",
   "metadata": {},
   "source": [
    "#### b)"
   ]
  },
  {
   "cell_type": "code",
   "execution_count": 5,
   "metadata": {},
   "outputs": [
    {
     "name": "stdout",
     "output_type": "stream",
     "text": [
      "4\n"
     ]
    }
   ],
   "source": [
    "b = print(2 + 2)"
   ]
  },
  {
   "cell_type": "code",
   "execution_count": 6,
   "metadata": {},
   "outputs": [],
   "source": [
    "b"
   ]
  },
  {
   "cell_type": "markdown",
   "metadata": {},
   "source": [
    "In the case of a, the result is assigned to the label \"a\" and when \"a\" is evaluated as an expression we observe the value we stored.\n",
    "\n",
    "In contrast, the expression in b displays the result of the expression \"2 + 2\" but since the print function always returns \"None\", we can't do much with our variable \"b\""
   ]
  },
  {
   "cell_type": "markdown",
   "metadata": {},
   "source": [
    "### Why might I care about this difference?"
   ]
  },
  {
   "cell_type": "markdown",
   "metadata": {},
   "source": [
    "A simple reason to care is if we like the look of the output and want to capture it as a string to use it elsewhere. We can use the `str` function for that..."
   ]
  },
  {
   "cell_type": "code",
   "execution_count": 7,
   "metadata": {},
   "outputs": [
    {
     "data": {
      "text/plain": [
       "'[2.0, 3.0, 4.0, 5.0, 6.0, 7.0, 8.0, 9.0]'"
      ]
     },
     "execution_count": 7,
     "metadata": {},
     "output_type": "execute_result"
    }
   ],
   "source": [
    "my_list = [float(x) for x in range(2,10)]\n",
    "str(my_list)"
   ]
  },
  {
   "cell_type": "markdown",
   "metadata": {},
   "source": [
    "That's nice. It makes some things easier, but it doesn't quite explain what is going on. For example, using different methods of seeing a Path object gives different results:"
   ]
  },
  {
   "cell_type": "code",
   "execution_count": 8,
   "metadata": {},
   "outputs": [],
   "source": [
    "from pathlib import Path"
   ]
  },
  {
   "cell_type": "code",
   "execution_count": 9,
   "metadata": {},
   "outputs": [],
   "source": [
    "test_path = Path('a_test_file.txt')"
   ]
  },
  {
   "cell_type": "code",
   "execution_count": 10,
   "metadata": {},
   "outputs": [
    {
     "data": {
      "text/plain": [
       "PosixPath('a_test_file.txt')"
      ]
     },
     "execution_count": 10,
     "metadata": {},
     "output_type": "execute_result"
    }
   ],
   "source": [
    "test_path"
   ]
  },
  {
   "cell_type": "code",
   "execution_count": 11,
   "metadata": {},
   "outputs": [
    {
     "name": "stdout",
     "output_type": "stream",
     "text": [
      "a_test_file.txt\n"
     ]
    }
   ],
   "source": [
    "print(test_path)"
   ]
  },
  {
   "cell_type": "code",
   "execution_count": 12,
   "metadata": {},
   "outputs": [
    {
     "data": {
      "text/plain": [
       "'a_test_file.txt'"
      ]
     },
     "execution_count": 12,
     "metadata": {},
     "output_type": "execute_result"
    }
   ],
   "source": [
    "str(test_path)"
   ]
  },
  {
   "cell_type": "markdown",
   "metadata": {},
   "source": [
    "### Ok. Enough said. What's under the hood?"
   ]
  },
  {
   "cell_type": "markdown",
   "metadata": {},
   "source": [
    "It turns out that when we print a variable we are calling a \"hidden\" `__str__` method of the variable and display the resulting string. To capture the string we could instead call this method. This is still not exactly the same as `print`, which will interpret the character encodings and display the string without quotes. It's close enough though."
   ]
  },
  {
   "cell_type": "code",
   "execution_count": 13,
   "metadata": {},
   "outputs": [
    {
     "data": {
      "text/plain": [
       "'a_test_file.txt'"
      ]
     },
     "execution_count": 13,
     "metadata": {},
     "output_type": "execute_result"
    }
   ],
   "source": [
    "test_path.__str__()"
   ]
  },
  {
   "cell_type": "markdown",
   "metadata": {},
   "source": [
    "And finally, the `__repr__` method will give us something more official and is often sufficient to instantiate the object that we currently have:"
   ]
  },
  {
   "cell_type": "code",
   "execution_count": 14,
   "metadata": {},
   "outputs": [
    {
     "data": {
      "text/plain": [
       "\"PosixPath('a_test_file.txt')\""
      ]
     },
     "execution_count": 14,
     "metadata": {},
     "output_type": "execute_result"
    }
   ],
   "source": [
    "test_path.__repr__()"
   ]
  },
  {
   "cell_type": "markdown",
   "metadata": {},
   "source": [
    "The are lots of hidden methods like this that enable all python objects to behave the way they do:"
   ]
  },
  {
   "cell_type": "code",
   "execution_count": 15,
   "metadata": {},
   "outputs": [
    {
     "data": {
      "text/plain": [
       "['__bytes__',\n",
       " '__class__',\n",
       " '__delattr__',\n",
       " '__dir__',\n",
       " '__doc__',\n",
       " '__enter__',\n",
       " '__eq__',\n",
       " '__exit__',\n",
       " '__format__',\n",
       " '__fspath__',\n",
       " '__ge__',\n",
       " '__getattribute__',\n",
       " '__gt__',\n",
       " '__hash__',\n",
       " '__init__',\n",
       " '__init_subclass__',\n",
       " '__le__',\n",
       " '__lt__',\n",
       " '__module__',\n",
       " '__ne__',\n",
       " '__new__',\n",
       " '__reduce__',\n",
       " '__reduce_ex__',\n",
       " '__repr__',\n",
       " '__rtruediv__',\n",
       " '__setattr__',\n",
       " '__sizeof__',\n",
       " '__slots__',\n",
       " '__str__',\n",
       " '__subclasshook__',\n",
       " '__truediv__']"
      ]
     },
     "execution_count": 15,
     "metadata": {},
     "output_type": "execute_result"
    }
   ],
   "source": [
    "[x for x in dir(test_path) if x.startswith('__')]"
   ]
  },
  {
   "cell_type": "markdown",
   "metadata": {},
   "source": [
    "### I'm still some of the details of the print function\n",
    "[Here](https://snarky.ca/why-print-became-a-function-in-python-3/) is a description that you might like."
   ]
  },
  {
   "cell_type": "markdown",
   "metadata": {},
   "source": [
    "# Finishing the exercise to generate a tree of data"
   ]
  },
  {
   "cell_type": "code",
   "execution_count": 16,
   "metadata": {},
   "outputs": [
    {
     "name": "stdout",
     "output_type": "stream",
     "text": [
      "0.6259322971913011,\n",
      "0.27875338120892323,\n",
      "0.6759749697791674,\n",
      "0.7637524852885392,\n",
      "0.5775033704254716,\n",
      "0.7291272699391282,\n",
      "0.3355534373707867,\n",
      "0.5536382567979049,\n",
      "0.42206723162654425,\n",
      "0.22673666737218778,\n",
      "0.0685405340259636,\n",
      "0.11905411084711115,\n",
      "0.04169503658214879,\n",
      "0.720141183349533,\n",
      "0.09983682688096318,\n",
      "0.8837957479247752,\n",
      "0.9375966691452271,\n",
      "0.8950214767263532,\n",
      "0.04575494566288063,\n",
      "0.5524322221370241,\n",
      "0.5530395654710383,\n",
      "0.04810855137461967,\n",
      "0.9980402132039246,\n",
      "0.9011309382672923,\n",
      "0.13308111279108958,\n",
      "0.6888001850634077,\n",
      "0.42651439874019037,\n",
      "0.4745940527192176\n"
     ]
    }
   ],
   "source": [
    "from pathlib import Path\n",
    "import itertools\n",
    "import random\n",
    "import shutil\n",
    "\n",
    "seasons = 'spring summer autumn winter'.split()\n",
    "animals = 'cat dog bat monkey elephant'.split()\n",
    "test_dir = Path('testdir')\n",
    "if test_dir.exists():\n",
    "    shutil.rmtree(test_dir)\n",
    "\n",
    "\n",
    "def generate_text():\n",
    "    return ',\\n'.join([str(random.random()) for x in range(random.randint(1,100))])\n",
    "\n",
    "for animal,season in itertools.product(animals,seasons):\n",
    "    this_loop_dir = test_dir / animal / season\n",
    "    text_path = this_loop_dir / 'data.txt'\n",
    "    text_path.parent.mkdir(parents=True)\n",
    "    text_string = generate_text()\n",
    "    text_path.write_text(text_string)\n",
    "\n",
    "print(text_path.read_text())"
   ]
  },
  {
   "cell_type": "markdown",
   "metadata": {},
   "source": [
    "### Making this better..."
   ]
  },
  {
   "cell_type": "markdown",
   "metadata": {},
   "source": [
    "There are many things we can do to make this code better. Let's discuss some of them."
   ]
  },
  {
   "cell_type": "markdown",
   "metadata": {},
   "source": [
    "### Breaking down the problem. \n",
    "This breakdown should ease rather than hinder the debugging process."
   ]
  },
  {
   "cell_type": "markdown",
   "metadata": {},
   "source": [
    "### Carefully thinking about idempotence."
   ]
  },
  {
   "cell_type": "markdown",
   "metadata": {},
   "source": [
    "### Carefully thinking about breaking backwards compatibility as we expand the functionality of our code."
   ]
  },
  {
   "cell_type": "markdown",
   "metadata": {},
   "source": [
    "### Saving our code in a way that is more reusable, shareable."
   ]
  },
  {
   "cell_type": "markdown",
   "metadata": {},
   "source": [
    "### Reassessing whether we solved the problem in the correct way. Would we attack the problem differently?"
   ]
  },
  {
   "cell_type": "markdown",
   "metadata": {},
   "source": [
    "### The end of course project"
   ]
  },
  {
   "cell_type": "markdown",
   "metadata": {},
   "source": [
    "A rough rubric that is subject to change is available on the [course repository](https://github.com/biof309/fall2019.git)"
   ]
  }
 ],
 "metadata": {
  "kernelspec": {
   "display_name": "Python 3",
   "language": "python",
   "name": "python3"
  },
  "language_info": {
   "codemirror_mode": {
    "name": "ipython",
    "version": 3
   },
   "file_extension": ".py",
   "mimetype": "text/x-python",
   "name": "python",
   "nbconvert_exporter": "python",
   "pygments_lexer": "ipython3",
   "version": "3.6.7"
  }
 },
 "nbformat": 4,
 "nbformat_minor": 4
}
